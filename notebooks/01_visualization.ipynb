{
 "cells": [
  {
   "cell_type": "code",
   "execution_count": null,
   "id": "e2690cb0",
   "metadata": {},
   "outputs": [],
   "source": [
    "import sys\n",
    "import os\n",
    "from pathlib import Path\n",
    "parent_dir = os.path.abspath(os.path.join(os.getcwd(), \"..\"))\n",
    "parent_dir = Path().resolve().parent\n",
    "sys.path.append(parent_dir)\n",
    "from src.data_loader.ohlcv_loader import load_ohlcv_data, plot_candlestick, plot_close_price\n",
    "\n",
    "df = load_ohlcv_data(parent_dir/\"data/raw/NTPC_minute.csv\")\n",
    "plot_candlestick(df)\n",
    "plot_close_price(df)\n"
   ]
  }
 ],
 "metadata": {
  "kernelspec": {
   "display_name": "base",
   "language": "python",
   "name": "python3"
  },
  "language_info": {
   "codemirror_mode": {
    "name": "ipython",
    "version": 3
   },
   "file_extension": ".py",
   "mimetype": "text/x-python",
   "name": "python",
   "nbconvert_exporter": "python",
   "pygments_lexer": "ipython3",
   "version": "3.12.3"
  }
 },
 "nbformat": 4,
 "nbformat_minor": 5
}
