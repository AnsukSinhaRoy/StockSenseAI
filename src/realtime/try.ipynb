{
 "cells": [
  {
   "cell_type": "code",
   "execution_count": 2,
   "id": "67fbcf0b",
   "metadata": {},
   "outputs": [
    {
     "name": "stdout",
     "output_type": "stream",
     "text": [
      "Goodreturns2 days agoNTPC Shares In Focus After Raising Rs 6405 Crore For Expansion; Should You Buy, Sell or Hold?\n",
      "IBC24 News15 hours agoNTPC Share Price: PSU स्टॉक देगा ताबड़तोड़ रिटर्न! एक्सपर्ट बोले- छू सकता है नई ऊंचाइयों को...\n",
      "MarketsMojo1 day agoHow has been the historical performance of NTPC Green?\n",
      "332.2\n"
     ]
    }
   ],
   "source": [
    "ticker = 'NTPC'\n",
    "\n",
    "url1 = f'https://www.google.com/finance/quote/{ticker}:NSE'\n",
    "\n",
    "import requests\n",
    "from bs4 import BeautifulSoup\n",
    "import time\n",
    "\n",
    "\n",
    "def get_price_history(ticker, days=30):\n",
    "    url = f'https://www.google.com/finance/quote/{ticker}:NSE'\n",
    "    response = requests.get(url)\n",
    "    soup = BeautifulSoup(response.text, 'html.parser')\n",
    "    \n",
    "    # Find the historical data table\n",
    "    table = soup.find('table', {'class': 'W(100%)'})\n",
    "    \n",
    "    if not table:\n",
    "        return None\n",
    "    \n",
    "    rows = table.find_all('tr')[1:days+1]  # Skip header row and limit to 'days' rows\n",
    "    history = []\n",
    "    \n",
    "    for row in rows:\n",
    "        cols = row.find_all('td')\n",
    "        if len(cols) >= 2:\n",
    "            date = cols[0].text.strip()\n",
    "            price = cols[1].text.strip().replace(',', '')\n",
    "            history.append((date, float(price)))\n",
    "    \n",
    "    return history\n",
    "\n",
    "def get__current_price(ticker):\n",
    "    url = f'https://www.google.com/finance/quote/{ticker}:NSE'\n",
    "    response = requests.get(url)\n",
    "    soup = BeautifulSoup(response.text, 'html.parser')\n",
    "    Priceclass = \"YMlKec fxKbKc\" \n",
    "    newsHeadingClass = \"yY3Lee\"\n",
    "\n",
    "    #print the news headings\n",
    "    news_headings = soup.find_all(class_=newsHeadingClass)\n",
    "    for heading in news_headings:\n",
    "        print(heading.text.strip())\n",
    "    price = soup.find(class_=Priceclass).text.strip()[1:].replace(',', '')\n",
    "    return float(price)\n",
    "\n",
    "print(get__current_price(ticker))\n",
    "\n"
   ]
  },
  {
   "cell_type": "code",
   "execution_count": 1,
   "id": "4b255105",
   "metadata": {},
   "outputs": [
    {
     "name": "stdout",
     "output_type": "stream",
     "text": [
      "{\"status\":\"error\",\"errors\":[{\"errorCode\":\"UDAPI100050\",\"message\":\"Invalid token used to access API\",\"propertyPath\":null,\"invalidValue\":null,\"error_code\":\"UDAPI100050\",\"property_path\":null,\"invalid_value\":null}]}\n"
     ]
    }
   ],
   "source": [
    "import requests\n",
    "\n",
    "url = \"https://api.upstox.com/v3/market-quote/ohlc\"\n",
    "\n",
    "payload={}\n",
    "headers = {\n",
    "  'Accept': 'application/json'\n",
    "}\n",
    "\n",
    "response = requests.request(\"GET\", url, headers=headers, data=payload)\n",
    "\n",
    "print(response.text)"
   ]
  }
 ],
 "metadata": {
  "kernelspec": {
   "display_name": "Python 3",
   "language": "python",
   "name": "python3"
  },
  "language_info": {
   "codemirror_mode": {
    "name": "ipython",
    "version": 3
   },
   "file_extension": ".py",
   "mimetype": "text/x-python",
   "name": "python",
   "nbconvert_exporter": "python",
   "pygments_lexer": "ipython3",
   "version": "3.12.8"
  }
 },
 "nbformat": 4,
 "nbformat_minor": 5
}
